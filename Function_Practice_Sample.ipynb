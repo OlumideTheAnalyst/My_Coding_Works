{
  "nbformat": 4,
  "nbformat_minor": 0,
  "metadata": {
    "kernelspec": {
      "display_name": "Python 3",
      "language": "python",
      "name": "python3"
    },
    "language_info": {
      "codemirror_mode": {
        "name": "ipython",
        "version": 3
      },
      "file_extension": ".py",
      "mimetype": "text/x-python",
      "name": "python",
      "nbconvert_exporter": "python",
      "pygments_lexer": "ipython3",
      "version": "3.7.1"
    },
    "colab": {
      "name": "Function Practice Sample.ipynb",
      "provenance": []
    }
  },
  "cells": [
    {
      "cell_type": "markdown",
      "metadata": {
        "id": "BgdFNpPDfra8"
      },
      "source": [
        "# Function Practice Exercises\n",
        "\n",
        "Problems are arranged in increasing difficulty:\n",
        "* Warmup - these can be solved using basic comparisons and methods\n",
        "* Level 1 - these may involve if/then conditional statements and simple methods\n",
        "* Level 2 - these may require iterating over sequences, usually with some kind of loop\n",
        "* Challenging - these will take some creativity to solve"
      ]
    },
    {
      "cell_type": "markdown",
      "metadata": {
        "id": "KHHCZXwIfra9"
      },
      "source": [
        "## WARMUP SECTION:"
      ]
    },
    {
      "cell_type": "markdown",
      "metadata": {
        "id": "8xwAly92fra-"
      },
      "source": [
        "#### LESSER OF TWO EVENS: Write a function that returns the lesser of two given numbers *if* both numbers are even, but returns the greater if one or both numbers are odd\n",
        "    lesser_of_two_evens(2,4) --> 2\n",
        "    lesser_of_two_evens(2,5) --> 5"
      ]
    },
    {
      "cell_type": "code",
      "metadata": {
        "id": "u7sBySf6fra_",
        "outputId": "608c71a7-5ceb-4fe7-c228-12f19ac86280"
      },
      "source": [
        "# Check\n",
        "lesser_of_two_evens(21,5)"
      ],
      "execution_count": null,
      "outputs": [
        {
          "name": "stdout",
          "output_type": "stream",
          "text": [
            "21\n"
          ]
        }
      ]
    },
    {
      "cell_type": "markdown",
      "metadata": {
        "id": "P50sDIE4fra_"
      },
      "source": [
        "#### ANIMAL CRACKERS: Write a function takes a two-word string and returns True if both words begin with same letter\n",
        "    animal_crackers('Levelheaded Llama') --> True\n",
        "    animal_crackers('Crazy Kangaroo') --> False"
      ]
    },
    {
      "cell_type": "code",
      "metadata": {
        "id": "SBsT_ywUfrbA",
        "outputId": "a1d8eac3-44ef-446f-ede1-a58daf742847"
      },
      "source": [
        "# Check\n",
        "animal_crackers('nigeria nairobi')"
      ],
      "execution_count": null,
      "outputs": [
        {
          "data": {
            "text/plain": [
              "True"
            ]
          },
          "execution_count": 49,
          "metadata": {},
          "output_type": "execute_result"
        }
      ]
    },
    {
      "cell_type": "code",
      "metadata": {
        "id": "SxJrGMYufrbA",
        "outputId": "41505391-54ee-4d0d-bacb-d024b025f9e3"
      },
      "source": [
        "# Check\n",
        "animal_crackers('Crazy Kangaroo')"
      ],
      "execution_count": null,
      "outputs": [
        {
          "data": {
            "text/plain": [
              "False"
            ]
          },
          "execution_count": 47,
          "metadata": {},
          "output_type": "execute_result"
        }
      ]
    },
    {
      "cell_type": "markdown",
      "metadata": {
        "id": "1JAQCoKLfrbA"
      },
      "source": [
        "#### MAKES TWENTY: Given two integers, return True if the sum of the integers is 20 *or* if one of the integers is 20. If not, return False\n",
        "\n",
        "    makes_twenty(20,10) --> True\n",
        "    makes_twenty(12,8) --> True\n",
        "    makes_twenty(2,3) --> False"
      ]
    },
    {
      "cell_type": "code",
      "metadata": {
        "collapsed": true,
        "id": "FCgHm0JefrbB"
      },
      "source": [
        "def makes_twenty(n1,n2):\n",
        "    pass"
      ],
      "execution_count": null,
      "outputs": []
    },
    {
      "cell_type": "code",
      "metadata": {
        "collapsed": true,
        "id": "-TBfQEtwfrbB"
      },
      "source": [
        "# Check\n",
        "makes_twenty(20,10)"
      ],
      "execution_count": null,
      "outputs": []
    },
    {
      "cell_type": "code",
      "metadata": {
        "collapsed": true,
        "id": "oAx-nUUWfrbB"
      },
      "source": [
        "# Check\n",
        "makes_twenty(2,3)"
      ],
      "execution_count": null,
      "outputs": []
    },
    {
      "cell_type": "markdown",
      "metadata": {
        "id": "jiyIuDHWfrbC"
      },
      "source": [
        "# LEVEL 1 PROBLEMS"
      ]
    },
    {
      "cell_type": "markdown",
      "metadata": {
        "id": "izNDXmYcfrbC"
      },
      "source": [
        "#### OLD MACDONALD: Write a function that capitalizes the first and fourth letters of a name\n",
        "     \n",
        "    old_macdonald('macdonald') --> MacDonald\n",
        "    \n",
        "Note: `'macdonald'.capitalize()` returns `'Macdonald'`"
      ]
    },
    {
      "cell_type": "code",
      "metadata": {
        "id": "GW8NiZ9zfrbD"
      },
      "source": [
        "def old_macdonald(name):\n",
        "    pass"
      ],
      "execution_count": null,
      "outputs": []
    },
    {
      "cell_type": "code",
      "metadata": {
        "id": "zLMsYGUAfrbD",
        "outputId": "b473265d-eca0-444f-8e9e-e92259d5bf26"
      },
      "source": [
        "# Check\n",
        "old_macdonald('Peanut')"
      ],
      "execution_count": null,
      "outputs": [
        {
          "data": {
            "text/plain": [
              "'PeaNut'"
            ]
          },
          "execution_count": 62,
          "metadata": {},
          "output_type": "execute_result"
        }
      ]
    },
    {
      "cell_type": "markdown",
      "metadata": {
        "id": "T2sAJSfLfrbD"
      },
      "source": [
        "#### MASTER YODA: Given a sentence, return a sentence with the words reversed\n",
        "\n",
        "    master_yoda('I am home') --> 'home am I'\n",
        "    master_yoda('We are ready') --> 'ready are We'\n",
        "    \n",
        "Note: The .join() method may be useful here. The .join() method allows you to join together strings in a list with some connector string. For example, some uses of the .join() method:\n",
        "\n",
        "    >>> \"--\".join(['a','b','c'])\n",
        "    >>> 'a--b--c'\n",
        "\n",
        "This means if you had a list of words you wanted to turn back into a sentence, you could just join them with a single space string:\n",
        "\n",
        "    >>> \" \".join(['Hello','world'])\n",
        "    >>> \"Hello world\""
      ]
    },
    {
      "cell_type": "code",
      "metadata": {
        "id": "-Zp-1YZDfrbE"
      },
      "source": [
        "def master_yoda(text):\n",
        "    pass"
      ],
      "execution_count": null,
      "outputs": []
    },
    {
      "cell_type": "code",
      "metadata": {
        "id": "ACfTV35GfrbE",
        "outputId": "fff327b1-467b-44c9-be79-7aecea37f968"
      },
      "source": [
        "# Check\n",
        "master_yoda('I am home')"
      ],
      "execution_count": null,
      "outputs": [
        {
          "name": "stdout",
          "output_type": "stream",
          "text": [
            "home am I\n"
          ]
        }
      ]
    },
    {
      "cell_type": "code",
      "metadata": {
        "id": "GqbXCvRJfrbE",
        "outputId": "0f06a3f7-ba24-4fb5-8f08-b8b3ff36279a"
      },
      "source": [
        "# Check\n",
        "master_yoda('We are ready')"
      ],
      "execution_count": null,
      "outputs": [
        {
          "name": "stdout",
          "output_type": "stream",
          "text": [
            "ready are We\n"
          ]
        }
      ]
    },
    {
      "cell_type": "markdown",
      "metadata": {
        "id": "Nijq-eWDfrbF"
      },
      "source": [
        "#### ALMOST THERE: Given an integer n, return True if n is within 10 of either 100 or 200\n",
        "\n",
        "    almost_there(90) --> True\n",
        "    almost_there(104) --> True\n",
        "    almost_there(150) --> False\n",
        "    almost_there(209) --> True\n",
        "    \n",
        "NOTE: `abs(num)` returns the absolute value of a number"
      ]
    },
    {
      "cell_type": "code",
      "metadata": {
        "id": "Nrzo4MP4frbF",
        "outputId": "19840ebf-b45f-43f1-845a-a7bd40688dbb"
      },
      "source": [
        "abs(400)"
      ],
      "execution_count": null,
      "outputs": [
        {
          "data": {
            "text/plain": [
              "400"
            ]
          },
          "execution_count": 106,
          "metadata": {},
          "output_type": "execute_result"
        }
      ]
    },
    {
      "cell_type": "code",
      "metadata": {
        "id": "NJ9iEr1xfrbF"
      },
      "source": [
        "def almost_there(n):\n",
        "    pass"
      ],
      "execution_count": null,
      "outputs": []
    },
    {
      "cell_type": "code",
      "metadata": {
        "id": "P-RmlYABfrbF",
        "outputId": "56685da6-7244-4aaf-d82b-66e1a87beac2"
      },
      "source": [
        "# Check\n",
        "almost_there(198)"
      ],
      "execution_count": null,
      "outputs": [
        {
          "data": {
            "text/plain": [
              "True"
            ]
          },
          "execution_count": 114,
          "metadata": {},
          "output_type": "execute_result"
        }
      ]
    },
    {
      "cell_type": "code",
      "metadata": {
        "id": "zzVOJJ4RfrbG",
        "outputId": "d6df6c23-cc91-4cf1-b78e-65b0914716cc"
      },
      "source": [
        "# Check\n",
        "almost_there(150)"
      ],
      "execution_count": null,
      "outputs": [
        {
          "data": {
            "text/plain": [
              "False"
            ]
          },
          "execution_count": 115,
          "metadata": {},
          "output_type": "execute_result"
        }
      ]
    },
    {
      "cell_type": "code",
      "metadata": {
        "id": "yQizQ7P2frbG",
        "outputId": "7ef28540-b274-421e-ce7e-f2c6604fb296"
      },
      "source": [
        "# Check\n",
        "almost_there(209)"
      ],
      "execution_count": null,
      "outputs": [
        {
          "data": {
            "text/plain": [
              "True"
            ]
          },
          "execution_count": 116,
          "metadata": {},
          "output_type": "execute_result"
        }
      ]
    },
    {
      "cell_type": "code",
      "metadata": {
        "id": "Urenc-t6frbG",
        "outputId": "c21efd2a-aede-4f0a-a734-94bc8fb72726"
      },
      "source": [
        "almost_there(108)"
      ],
      "execution_count": null,
      "outputs": [
        {
          "data": {
            "text/plain": [
              "True"
            ]
          },
          "execution_count": 117,
          "metadata": {},
          "output_type": "execute_result"
        }
      ]
    },
    {
      "cell_type": "code",
      "metadata": {
        "id": "lulYsUV4frbH"
      },
      "source": [
        ""
      ],
      "execution_count": null,
      "outputs": []
    }
  ]
}